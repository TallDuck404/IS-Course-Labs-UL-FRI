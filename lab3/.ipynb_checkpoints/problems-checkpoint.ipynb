{
 "cells": [
  {
   "cell_type": "markdown",
   "source": [
    "# Task 1\n",
    "\n",
    "- Are there more movies shorter than 100 min or longer than (or equal to) 100 minutes?  (show your answer numerically and graphically)\n",
    "- Are there more action comedies or romantic comedies?\n",
    "- Plot a histogram of the ratings for drama movies.\n",
    "- Is the average rating of dramas higher than the average rating of non-dramas? (show your answer numerically and graphically)\n",
    "- Plot the number of animated movies being produced every year for the period 1995-2005.\n",
    "- Is there a clear boundary between short and feature movies (according to their length)?"
   ],
   "metadata": {
    "collapsed": false,
    "pycharm": {
     "name": "#%% md\n"
    }
   }
  },
  {
   "cell_type": "markdown",
   "source": [
    "# Task 2\n",
    "\n",
    "- Plot the proportion of players according to playing positions.\n",
    "- Compare career rebounds (the \"reb\" attribute) with respect to playing position.\n",
    "- Show the distribution of free throw percentages. The percentage is determined by dividing the number of shots made (\"ftm\") by the total number of shots attempted (\"fta\").\n",
    "- Compare career 3-pointers made for the players active between 1990 and 2007, with respect to playing position.\n",
    "- How does the average career length of retired players vary from year to year?"
   ],
   "metadata": {
    "collapsed": false,
    "pycharm": {
     "name": "#%% md\n"
    }
   }
  }
 ],
 "metadata": {
  "kernelspec": {
   "display_name": "Python 3",
   "language": "python",
   "name": "python3"
  },
  "language_info": {
   "codemirror_mode": {
    "name": "ipython",
    "version": 2
   },
   "file_extension": ".py",
   "mimetype": "text/x-python",
   "name": "python",
   "nbconvert_exporter": "python",
   "pygments_lexer": "ipython2",
   "version": "2.7.6"
  }
 },
 "nbformat": 4,
 "nbformat_minor": 0
}