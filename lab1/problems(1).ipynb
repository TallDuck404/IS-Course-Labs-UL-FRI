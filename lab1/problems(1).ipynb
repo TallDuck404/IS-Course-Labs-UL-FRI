{
 "cells": [
  {
   "cell_type": "markdown",
   "metadata": {
    "pycharm": {
     "name": "#%% md\n"
    }
   },
   "source": [
    "# Data Wrangling Exercises\n",
    "\n",
    "\n",
    "## Introduction\n",
    "\n",
    "Data wrangling is the process of cleaning, transforming, and organizing data to make it more suitable for analysis. It is a critical step in any data analysis project, as it ensures that the data is accurate, consistent, and complete.\n",
    "\n",
    "These exercises are designed to provide practice in data wrangling skills using a real-world dataset. The dataset used in these exercises is the Slovenian Natural Language Inference dataset (SI-NLI), which contains labeled examples of text pairs with corresponding labels of entailment, contradiction, or neutral.\n",
    "\n",
    "The exercises cover a range of data wrangling techniques, including importing data, performing basic statistics, subsetting observations and variables, creating new variables, grouping data, and combining datasets."
   ]
  },
  {
   "cell_type": "markdown",
   "metadata": {
    "pycharm": {
     "name": "#%% md\n"
    }
   },
   "source": [
    "## Get data\n",
    "\n",
    "1. Download SI-NLI from [link](https://www.clarin.si/repository/xmlui/handle/11356/1707).\n",
    "2. Load libraries.\n",
    "3. Import ```train.tsv``` file."
   ]
  },
  {
   "cell_type": "code",
   "execution_count": 23,
   "metadata": {},
   "outputs": [],
   "source": [
    "import pandas as pd\n",
    "import numpy as np"
   ]
  },
  {
   "cell_type": "code",
   "execution_count": 24,
   "metadata": {},
   "outputs": [
    {
     "name": "stdout",
     "output_type": "stream",
     "text": [
      "<class 'pandas.core.frame.DataFrame'>\n",
      "RangeIndex: 4392 entries, 0 to 4391\n",
      "Data columns (total 14 columns):\n",
      " #   Column            Non-Null Count  Dtype \n",
      "---  ------            --------------  ----- \n",
      " 0   pair_id           4392 non-null   object\n",
      " 1   premise           4392 non-null   object\n",
      " 2   hypothesis        4392 non-null   object\n",
      " 3   annotation_1      4301 non-null   object\n",
      " 4   comment_1         43 non-null     object\n",
      " 5   annotator1_id     4301 non-null   object\n",
      " 6   annotation_2      4301 non-null   object\n",
      " 7   comment_2         118 non-null    object\n",
      " 8   annotator2_id     4301 non-null   object\n",
      " 9   annotation_3      411 non-null    object\n",
      " 10  comment_3         8 non-null      object\n",
      " 11  annotator3_id     416 non-null    object\n",
      " 12  annotation_FINAL  3884 non-null   object\n",
      " 13  label             4392 non-null   object\n",
      "dtypes: object(14)\n",
      "memory usage: 480.5+ KB\n"
     ]
    }
   ],
   "source": [
    "auto = pd.read_csv('./train.tsv',sep=\"\\t\")\n",
    "auto.info()"
   ]
  },
  {
   "cell_type": "code",
   "execution_count": null,
   "metadata": {},
   "outputs": [],
   "source": []
  },
  {
   "cell_type": "markdown",
   "metadata": {
    "pycharm": {
     "name": "#%% md\n"
    }
   },
   "source": [
    "## Basic statistics\n",
    "\n",
    "1. How many examples are in a dataframe? 4392\n",
    "2. How many variables are in a dataframe? 14\n",
    "3. Count values in the ```label``` column. 4392\n",
    "4. Are there any missing values in the data? yes\n",
    "5. Count the number of missing values per column."
   ]
  },
  {
   "cell_type": "code",
   "execution_count": null,
   "metadata": {},
   "outputs": [],
   "source": [
    "len(auto)\n",
    "auto.info()\n",
    "auto.describe()"
   ]
  },
  {
   "cell_type": "markdown",
   "metadata": {
    "pycharm": {
     "name": "#%% md\n"
    }
   },
   "source": [
    "## Subset observations and variables\n",
    "\n",
    "1. Select ```premise``` column and store it in a list.\n",
    "2. Print first 3 rows from the first 3 columns.\n",
    "3. Select ```pair_id```, ```premise```, ```hypothesis```, ```label``` columns and save them into ```train_dataset``` variable.\n",
    "4. Drop ```pair_id``` column.\n",
    "5. Convert all columns to uppercase.\n",
    "6. Replace ```_``` with ```-``` in column names.\n",
    "7. Select rows that belong to the ```neutral``` label.\n",
    "8. Select last 30 rows.\n",
    "9. Select rows with ```hypothesis``` longer than 100 characters.\n",
    "10. Select rows with ```hypothesis``` longer than 100 characters and belong to the ```neutral``` label.\n",
    "11. Select the row with the longest ```hypothesis```.\n",
    "12. Remove rows that contain ```č```, ```š```, ```ž``` in ```premise``` or ```hypothesis```.\n",
    "13. Remove rows that contain at least one missing value.\n",
    "14. Remove the column with the most missing values."
   ]
  },
  {
   "cell_type": "code",
   "execution_count": null,
   "metadata": {},
   "outputs": [],
   "source": [
    "a = auto[\"premise\"]\n",
    "a"
   ]
  },
  {
   "cell_type": "code",
   "execution_count": null,
   "metadata": {},
   "outputs": [],
   "source": [
    "auto.iloc[0:3,0:3]"
   ]
  },
  {
   "cell_type": "code",
   "execution_count": 42,
   "metadata": {},
   "outputs": [
    {
     "data": {
      "text/html": [
       "<div>\n",
       "<style scoped>\n",
       "    .dataframe tbody tr th:only-of-type {\n",
       "        vertical-align: middle;\n",
       "    }\n",
       "\n",
       "    .dataframe tbody tr th {\n",
       "        vertical-align: top;\n",
       "    }\n",
       "\n",
       "    .dataframe thead th {\n",
       "        text-align: right;\n",
       "    }\n",
       "</style>\n",
       "<table border=\"1\" class=\"dataframe\">\n",
       "  <thead>\n",
       "    <tr style=\"text-align: right;\">\n",
       "      <th></th>\n",
       "      <th>PAIR-ID</th>\n",
       "      <th>PREMISE</th>\n",
       "      <th>HYPOTHESIS</th>\n",
       "      <th>LABEL</th>\n",
       "    </tr>\n",
       "  </thead>\n",
       "  <tbody>\n",
       "    <tr>\n",
       "      <th>0</th>\n",
       "      <td>P0</td>\n",
       "      <td>Vendar se je anglikanska večina v grofijah na ...</td>\n",
       "      <td>A na glasovanju o priključitvi ozemlja k Sever...</td>\n",
       "      <td>entailment</td>\n",
       "    </tr>\n",
       "    <tr>\n",
       "      <th>1</th>\n",
       "      <td>P1</td>\n",
       "      <td>INŠTRUKTOR IZ PRTLJAŽNIKA V DRUGO POTOVALKO PR...</td>\n",
       "      <td>Učitelj je vzel iz prtljažnika iz prve potoval...</td>\n",
       "      <td>contradiction</td>\n",
       "    </tr>\n",
       "    <tr>\n",
       "      <th>2</th>\n",
       "      <td>P2</td>\n",
       "      <td>biotska raznovrstnost – v splošnem je to razno...</td>\n",
       "      <td>Četudi je biodiverziteta pomemben del biološke...</td>\n",
       "      <td>contradiction</td>\n",
       "    </tr>\n",
       "    <tr>\n",
       "      <th>3</th>\n",
       "      <td>P3</td>\n",
       "      <td>Preroški pomen: Če v sanjah bedite, je to na s...</td>\n",
       "      <td>V preroškem smislu budnost v sanjah nakazuje o...</td>\n",
       "      <td>entailment</td>\n",
       "    </tr>\n",
       "    <tr>\n",
       "      <th>4</th>\n",
       "      <td>P4</td>\n",
       "      <td>Jeseni so dnevi krajši, stemni se že dokaj zgo...</td>\n",
       "      <td>V krajših jesenskih dneh tema nastopi relativn...</td>\n",
       "      <td>entailment</td>\n",
       "    </tr>\n",
       "    <tr>\n",
       "      <th>...</th>\n",
       "      <td>...</td>\n",
       "      <td>...</td>\n",
       "      <td>...</td>\n",
       "      <td>...</td>\n",
       "    </tr>\n",
       "    <tr>\n",
       "      <th>4387</th>\n",
       "      <td>P4387</td>\n",
       "      <td>Kot je povedal, naj bi novi načrt podpisal tak...</td>\n",
       "      <td>Sam je brez zadržkov pojasnil situacijo in raz...</td>\n",
       "      <td>neutral</td>\n",
       "    </tr>\n",
       "    <tr>\n",
       "      <th>4388</th>\n",
       "      <td>P4388</td>\n",
       "      <td>Kot je povedal, naj bi novi načrt podpisal tak...</td>\n",
       "      <td>Sam se na vprašanje o podpisu novih načrtov ni...</td>\n",
       "      <td>contradiction</td>\n",
       "    </tr>\n",
       "    <tr>\n",
       "      <th>4389</th>\n",
       "      <td>P4389</td>\n",
       "      <td>Večina delničarjev ga je potrdila za predsedni...</td>\n",
       "      <td>Banka Karantanija je po izboru večine delničar...</td>\n",
       "      <td>entailment</td>\n",
       "    </tr>\n",
       "    <tr>\n",
       "      <th>4390</th>\n",
       "      <td>P4390</td>\n",
       "      <td>Večina delničarjev ga je potrdila za predsedni...</td>\n",
       "      <td>Trdo delo Janeza Pestotnika se mu je končno ob...</td>\n",
       "      <td>neutral</td>\n",
       "    </tr>\n",
       "    <tr>\n",
       "      <th>4391</th>\n",
       "      <td>P4391</td>\n",
       "      <td>Večina delničarjev ga je potrdila za predsedni...</td>\n",
       "      <td>Ker se delničarji s svojimi glasovi niso uspel...</td>\n",
       "      <td>contradiction</td>\n",
       "    </tr>\n",
       "  </tbody>\n",
       "</table>\n",
       "<p>4392 rows × 4 columns</p>\n",
       "</div>"
      ],
      "text/plain": [
       "     PAIR-ID                                            PREMISE  \\\n",
       "0         P0  Vendar se je anglikanska večina v grofijah na ...   \n",
       "1         P1  INŠTRUKTOR IZ PRTLJAŽNIKA V DRUGO POTOVALKO PR...   \n",
       "2         P2  biotska raznovrstnost – v splošnem je to razno...   \n",
       "3         P3  Preroški pomen: Če v sanjah bedite, je to na s...   \n",
       "4         P4  Jeseni so dnevi krajši, stemni se že dokaj zgo...   \n",
       "...      ...                                                ...   \n",
       "4387   P4387  Kot je povedal, naj bi novi načrt podpisal tak...   \n",
       "4388   P4388  Kot je povedal, naj bi novi načrt podpisal tak...   \n",
       "4389   P4389  Večina delničarjev ga je potrdila za predsedni...   \n",
       "4390   P4390  Večina delničarjev ga je potrdila za predsedni...   \n",
       "4391   P4391  Večina delničarjev ga je potrdila za predsedni...   \n",
       "\n",
       "                                             HYPOTHESIS          LABEL  \n",
       "0     A na glasovanju o priključitvi ozemlja k Sever...     entailment  \n",
       "1     Učitelj je vzel iz prtljažnika iz prve potoval...  contradiction  \n",
       "2     Četudi je biodiverziteta pomemben del biološke...  contradiction  \n",
       "3     V preroškem smislu budnost v sanjah nakazuje o...     entailment  \n",
       "4     V krajših jesenskih dneh tema nastopi relativn...     entailment  \n",
       "...                                                 ...            ...  \n",
       "4387  Sam je brez zadržkov pojasnil situacijo in raz...        neutral  \n",
       "4388  Sam se na vprašanje o podpisu novih načrtov ni...  contradiction  \n",
       "4389  Banka Karantanija je po izboru večine delničar...     entailment  \n",
       "4390  Trdo delo Janeza Pestotnika se mu je končno ob...        neutral  \n",
       "4391  Ker se delničarji s svojimi glasovi niso uspel...  contradiction  \n",
       "\n",
       "[4392 rows x 4 columns]"
      ]
     },
     "execution_count": 42,
     "metadata": {},
     "output_type": "execute_result"
    }
   ],
   "source": [
    "train_dataset = auto.loc[:,[\"pair_id\", \"premise\", \"hypothesis\", \"label\"]]\n",
    "train_dataset.drop(columns=\"pair_id\")\n",
    "train_dataset.columns = train_dataset.columns.str.upper()\n",
    "train_dataset.columns = train_dataset.columns.str.replace('_','-')\n",
    "train_dataset"
   ]
  },
  {
   "cell_type": "markdown",
   "metadata": {
    "pycharm": {
     "name": "#%% md\n"
    }
   },
   "source": [
    "## Create new variables\n",
    "\n",
    "1. Create integer type variable ```vowel_count_premise``` which stores the number of vowels in a ```premise```. Repeat for ```hypothesis```.\n",
    "2. Create integer type variable with possible values ```1```, ```2```, ```3``` that counts how many annotations a single example received.\n",
    "3. Create boolean type variable ```agreement``` which reflects whether all annotators agreed on the label."
   ]
  },
  {
   "cell_type": "markdown",
   "metadata": {
    "pycharm": {
     "name": "#%% md\n"
    }
   },
   "source": [
    "## Save dataframes\n",
    "\n",
    "1. Save the original dataset to disk in a ```csv``` format.\n",
    "..."
   ]
  }
 ],
 "metadata": {
  "kernelspec": {
   "display_name": "Python 3 (ipykernel)",
   "language": "python",
   "name": "python3"
  },
  "language_info": {
   "codemirror_mode": {
    "name": "ipython",
    "version": 3
   },
   "file_extension": ".py",
   "mimetype": "text/x-python",
   "name": "python",
   "nbconvert_exporter": "python",
   "pygments_lexer": "ipython3",
   "version": "3.12.5"
  }
 },
 "nbformat": 4,
 "nbformat_minor": 4
}
