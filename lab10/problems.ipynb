{
 "cells": [
  {
   "cell_type": "markdown",
   "id": "f782e111-edc8-472d-ad4d-3449bcfdc7a6",
   "metadata": {},
   "source": [
    "## Exercise:\n",
    "\n",
    "For practice, follow these steps:  \n",
    "1. Visit [OpenML](https://www.openml.org) and choose a dataset that interests you.  \n",
    "2. Apply one of the suggested approaches:  \n",
    "   - **Genetic HPO** with PyGAD.  \n",
    "   - **Bayesian Optimization** using Hyperopt.  \n",
    "   - **AutoML** with TPOT or AutoGluon.  \n",
    "   - Use **TabPFN** for tabular data modeling.  \n",
    "3. Document your results and compare the effectiveness of different approaches.  "
   ]
  }
 ],
 "metadata": {
  "kernelspec": {
   "display_name": "Python 3 (ipykernel)",
   "language": "python",
   "name": "python3"
  },
  "language_info": {
   "codemirror_mode": {
    "name": "ipython",
    "version": 3
   },
   "file_extension": ".py",
   "mimetype": "text/x-python",
   "name": "python",
   "nbconvert_exporter": "python",
   "pygments_lexer": "ipython3",
   "version": "3.11.5"
  }
 },
 "nbformat": 4,
 "nbformat_minor": 5
}
