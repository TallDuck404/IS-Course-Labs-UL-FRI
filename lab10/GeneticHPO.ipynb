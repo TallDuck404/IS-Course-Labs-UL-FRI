{
 "cells": [
  {
   "cell_type": "markdown",
   "id": "6df6035e-2191-4470-94f2-abbc4129b0ff",
   "metadata": {},
   "source": [
    "# Introduction to Hyperparameter Optimization with Genetic Algorithms\n",
    "\n",
    "## Overview\n",
    "Hyperparameter Optimization (HPO) is a crucial step in machine learning workflows, aiming to enhance model performance by tuning its hyperparameters. Genetic Algorithms (GAs) are a class of optimization algorithms inspired by the principles of natural selection and evolution. They are particularly suited for exploring large and complex hyperparameter spaces where traditional optimization techniques may struggle.\n",
    "\n",
    "## Why Use Genetic Algorithms for HPO?\n",
    "GAs leverage concepts such as mutation, crossover, and selection to evolve a population of candidate solutions over generations. They are effective for HPO because:\n",
    "\n",
    "- **Non-Differentiable Functions**: GAs do not require gradient information, making them suitable for models with non-differentiable or complex objective functions.\n",
    "- **Global Search Capability**: GAs can escape local optima by introducing diversity through mutation, providing a better chance of finding the global optimum.\n",
    "- **Flexibility**: GAs handle both discrete and continuous hyperparameter spaces and can incorporate constraints.\n",
    "\n",
    "## Key Concepts in Genetic Algorithms\n",
    "\n",
    "1. **Population**:\n",
    "   - A set of candidate solutions, where each individual represents a possible combination of hyperparameters.\n",
    "\n",
    "2. **Fitness Function**:\n",
    "   - A function that evaluates the quality of each individual based on the objective (e.g., validation accuracy).\n",
    "\n",
    "3. **Selection**:\n",
    "   - A mechanism to choose individuals for reproduction based on their fitness. Common strategies include tournament selection and roulette wheel selection.\n",
    "\n",
    "4. **Crossover**:\n",
    "   - A process to combine the genetic material (hyperparameter values) of two parent solutions to produce offspring.\n",
    "\n",
    "5. **Mutation**:\n",
    "   - A process to introduce random changes to individuals, ensuring diversity and preventing premature convergence.\n",
    "\n",
    "6. **Generations**:\n",
    "   - Iterative cycles where the population evolves through selection, crossover, and mutation.\n",
    "\n",
    "## Applying Genetic Algorithms to HPO\n",
    "To use GAs for HPO, follow these steps:\n",
    "\n",
    "1. **Define the Search Space**:\n",
    "   - Specify the range and types of hyperparameters, such as integers, floats, or categorical values.\n",
    "\n",
    "2. **Initialize the Population**:\n",
    "   - Randomly generate a set of candidate solutions within the search space.\n",
    "\n",
    "3. **Define the Fitness Function**:\n",
    "   - Measure the performance of each solution, often using cross-validation or validation set accuracy.\n",
    "\n",
    "4. **Evolutionary Process**:\n",
    "   - Use selection, crossover, and mutation to evolve the population over generations.\n",
    "\n",
    "5. **Convergence**:\n",
    "   - Stop the algorithm when a predefined number of generations is reached or when the improvement in fitness stalls.\n",
    "\n",
    "## Advantages of Genetic Algorithms for HPO\n",
    "- **Robustness**: Handles noisy objective functions and irregular search spaces.\n",
    "- **Parallelization**: Evaluations of individuals can be distributed across multiple processors.\n",
    "- **Adaptability**: Works well with both structured and unstructured search spaces.\n",
    "\n",
    "## Limitations\n",
    "- **Computational Cost**: Evaluating the fitness of individuals can be expensive, especially for large models or datasets.\n",
    "- **Parameter Tuning**: GAs themselves have hyperparameters (e.g., population size, mutation rate) that need careful tuning.\n",
    "- **Convergence Speed**: May require many generations to converge to an optimal solution.\n",
    "\n",
    "## Example Use Case: Random Forest Classifier\n",
    "In the context of optimizing a Random Forest Classifier, GAs can explore hyperparameters such as:\n",
    "- Number of trees (`n_estimators`)\n",
    "- Maximum tree depth (`max_depth`)\n",
    "- Minimum samples per split (`min_samples_split`)\n",
    "- Criterion for split quality (`gini`, `entropy`)\n",
    "\n",
    "By representing these hyperparameters as genes in an individual's chromosome, GAs evolve solutions to maximize model accuracy on a validation set."
   ]
  },
  {
   "cell_type": "code",
   "execution_count": 1,
   "id": "0523c121-697c-47f8-9bdf-01b47f8e95f1",
   "metadata": {},
   "outputs": [],
   "source": [
    "import openml\n",
    "import pandas as pd\n",
    "from sklearn.model_selection import train_test_split\n",
    "from sklearn.ensemble import RandomForestClassifier\n",
    "from sklearn.metrics import accuracy_score\n",
    "import pygad\n",
    "import numpy as np\n",
    "import matplotlib.pyplot as plt\n"
   ]
  },
  {
   "cell_type": "code",
   "execution_count": 2,
   "id": "c9b5465e-5fbc-46f4-a563-007df40b2a2c",
   "metadata": {},
   "outputs": [],
   "source": [
    "# Load dataset from OpenML\n",
    "def load_openml_dataset(dataset_id):\n",
    "    dataset = openml.datasets.get_dataset(dataset_id)\n",
    "    X, y, _, _ = dataset.get_data(target=dataset.default_target_attribute)\n",
    "    return X, y"
   ]
  },
  {
   "cell_type": "code",
   "execution_count": 3,
   "id": "a9d7a08d-b668-4257-8dc2-88db7987ccaf",
   "metadata": {},
   "outputs": [],
   "source": [
    "# Define mapping for categorical values\n",
    "criterion_map = {0: \"gini\", 1: \"entropy\"}\n",
    "\n",
    "# Update the fitness function\n",
    "def fitness_function(ga_instance, solution, solution_idx):\n",
    "    n_estimators, max_depth, min_samples_split, min_samples_leaf, criterion_idx = solution\n",
    "    criterion = criterion_map[int(criterion_idx)]\n",
    "    clf = RandomForestClassifier(\n",
    "        n_estimators=int(n_estimators),\n",
    "        max_depth=int(max_depth),\n",
    "        min_samples_split=int(min_samples_split),\n",
    "        min_samples_leaf=int(min_samples_leaf),\n",
    "        criterion=criterion,\n",
    "        random_state=42\n",
    "    )\n",
    "    clf.fit(X_train, y_train)\n",
    "    preds = clf.predict(X_valid)\n",
    "    acc = accuracy_score(y_valid, preds)\n",
    "    return acc"
   ]
  },
  {
   "cell_type": "code",
   "execution_count": 4,
   "id": "3341e289-9345-4354-9536-b98e39eab52d",
   "metadata": {},
   "outputs": [],
   "source": [
    "# Define function to plot progress\n",
    "def plot_progress(progress):\n",
    "    plt.figure(figsize=(10, 6))\n",
    "    plt.plot(progress, marker='o')\n",
    "    plt.xlabel(\"Generation\")\n",
    "    plt.ylabel(\"Fitness\")\n",
    "    plt.title(\"Evolution of Fitness\")\n",
    "    plt.grid()\n",
    "    plt.show()\n"
   ]
  },
  {
   "cell_type": "code",
   "execution_count": 5,
   "id": "9413c134-0fca-47f2-86ad-aecfe9dce7cf",
   "metadata": {},
   "outputs": [
    {
     "name": "stderr",
     "output_type": "stream",
     "text": [
      "/tmp/ipykernel_269294/4089638376.py:3: FutureWarning: Starting from Version 0.15 `download_data`, `download_qualities`, and `download_features_meta_data` will all be ``False`` instead of ``True`` by default to enable lazy loading. To disable this message until version 0.15 explicitly set `download_data`, `download_qualities`, and `download_features_meta_data` to a bool while calling `get_dataset`.\n",
      "  dataset = openml.datasets.get_dataset(dataset_id)\n"
     ]
    }
   ],
   "source": [
    "# Load dataset (replace 37 with desired OpenML dataset ID)\n",
    "dataset_id = 37 \n",
    "X, y = load_openml_dataset(dataset_id)\n",
    "\n",
    "# Split dataset\n",
    "X_train, X_valid, y_train, y_valid = train_test_split(X, y, test_size=0.2, random_state=42)"
   ]
  },
  {
   "cell_type": "code",
   "execution_count": 6,
   "id": "37d12901-943b-45be-a493-f92a0a7f3df9",
   "metadata": {},
   "outputs": [],
   "source": [
    "# Set up PyGAD parameters\n",
    "num_generations = 20\n",
    "num_parents_mating = 10\n",
    "sol_per_pop = 20\n",
    "num_genes = 5\n",
    "\n",
    "# Update gene_space to use integers for the criterion\n",
    "gene_space = [\n",
    "    {'low': 50, 'high': 300, 'step': 1},   # n_estimators\n",
    "    {'low': 5, 'high': 50, 'step': 1},     # max_depth\n",
    "    {'low': 2, 'high': 20, 'step': 1},     # min_samples_split\n",
    "    {'low': 1, 'high': 20, 'step': 1},     # min_samples_leaf\n",
    "    {'low': 0, 'high': 1, 'step': 1}       # criterion (0 for gini, 1 for entropy)\n",
    "]"
   ]
  },
  {
   "cell_type": "code",
   "execution_count": 7,
   "id": "c413301a-6462-48c2-b8a6-f9e35230f10d",
   "metadata": {},
   "outputs": [
    {
     "name": "stderr",
     "output_type": "stream",
     "text": [
      "/home/boshkokoloski/miniconda3/lib/python3.11/site-packages/pygad/pygad.py:728: UserWarning: The percentage of genes to mutate (mutation_percent_genes=10) resulted in selecting (0) genes. The number of genes to mutate is set to 1 (mutation_num_genes=1).\n",
      "If you do not want to mutate any gene, please set mutation_type=None.\n",
      "  warnings.warn(\n",
      "/home/boshkokoloski/miniconda3/lib/python3.11/site-packages/pygad/pygad.py:1139: UserWarning: The 'delay_after_gen' parameter is deprecated starting from PyGAD 3.3.0. To delay or pause the evolution after each generation, assign a callback function/method to the 'on_generation' parameter to adds some time delay.\n",
      "  warnings.warn(\"The 'delay_after_gen' parameter is deprecated starting from PyGAD 3.3.0. To delay or pause the evolution after each generation, assign a callback function/method to the 'on_generation' parameter to adds some time delay.\")\n",
      "/home/boshkokoloski/miniconda3/lib/python3.11/site-packages/pygad/pygad.py:1153: UserWarning: Use the 'save_best_solutions' parameter with caution as it may cause memory overflow when either the number of generations or number of genes is large.\n",
      "  warnings.warn(\"Use the 'save_best_solutions' parameter with caution as it may cause memory overflow when either the number of generations or number of genes is large.\")\n"
     ]
    }
   ],
   "source": [
    "ga_instance = pygad.GA(\n",
    "    num_generations=num_generations,\n",
    "    num_parents_mating=num_parents_mating,\n",
    "    fitness_func=fitness_function,\n",
    "    sol_per_pop=sol_per_pop,\n",
    "    num_genes=num_genes,\n",
    "    gene_space=gene_space,\n",
    "    save_best_solutions=True\n",
    ")\n",
    "\n",
    "# Run the Genetic Algorithm\n",
    "ga_instance.run()\n"
   ]
  },
  {
   "cell_type": "code",
   "execution_count": 8,
   "id": "bd15fc65-e33b-4310-9214-57363d88b736",
   "metadata": {},
   "outputs": [
    {
     "name": "stdout",
     "output_type": "stream",
     "text": [
      "Best Solution: [182.   7.  16.  19.   0.]\n",
      "Best Fitness: 0.7792207792207793\n"
     ]
    },
    {
     "data": {
      "image/png": "[encoded data removed]",
      "text/plain": [
       "<Figure size 1000x600 with 1 Axes>"
      ]
     },
     "metadata": {},
     "output_type": "display_data"
    }
   ],
   "source": [
    "# Extract results\n",
    "best_solution, best_solution_fitness, _ = ga_instance.best_solution(pop_fitness=ga_instance.last_generation_fitness)\n",
    "print(\"Best Solution:\", best_solution)\n",
    "print(\"Best Fitness:\", best_solution_fitness)\n",
    "\n",
    "# Plot progress\n",
    "if hasattr(ga_instance, \"best_solutions_fitness\"):\n",
    "    plot_progress(ga_instance.best_solutions_fitness)\n",
    "else:\n",
    "    print(\"No fitness progress data available to plot.\")\n"
   ]
  },
  {
   "cell_type": "code",
   "execution_count": 9,
   "id": "21db902c-86bf-4ce4-8f34-358fc93f0b79",
   "metadata": {},
   "outputs": [
    {
     "name": "stdout",
     "output_type": "stream",
     "text": [
      "Final Accuracy: 0.7792207792207793\n"
     ]
    }
   ],
   "source": [
    "# Train final model with best hyperparameters\n",
    "final_model = RandomForestClassifier(\n",
    "    n_estimators=int(best_solution[0]),\n",
    "    max_depth=int(best_solution[1]),\n",
    "    min_samples_split=int(best_solution[2]),\n",
    "    min_samples_leaf=int(best_solution[3]),\n",
    "    criterion=criterion_map[best_solution[4]],\n",
    "    random_state=42\n",
    ")\n",
    "final_model.fit(X_train, y_train)\n",
    "final_preds = final_model.predict(X_valid)\n",
    "final_acc = accuracy_score(y_valid, final_preds)\n",
    "\n",
    "print(f\"Final Accuracy: {final_acc}\")"
   ]
  },
  {
   "cell_type": "code",
   "execution_count": 10,
   "id": "657b4d29-47f2-428e-8f86-201a2309f88f",
   "metadata": {},
   "outputs": [
    {
     "name": "stdout",
     "output_type": "stream",
     "text": [
      "Best Solution: [182.   7.  16.  19.   0.]\n",
      "Best Fitness: 0.7792207792207793\n"
     ]
    }
   ],
   "source": [
    "best_solution, best_solution_fitness, _ = ga_instance.best_solution(pop_fitness=ga_instance.last_generation_fitness)\n",
    "print(\"Best Solution:\", best_solution)\n",
    "print(\"Best Fitness:\", best_solution_fitness)"
   ]
  }
 ],
 "metadata": {
  "kernelspec": {
   "display_name": "Python 3 (ipykernel)",
   "language": "python",
   "name": "python3"
  },
  "language_info": {
   "codemirror_mode": {
    "name": "ipython",
    "version": 3
   },
   "file_extension": ".py",
   "mimetype": "text/x-python",
   "name": "python",
   "nbconvert_exporter": "python",
   "pygments_lexer": "ipython3",
   "version": "3.11.5"
  }
 },
 "nbformat": 4,
 "nbformat_minor": 5
}
