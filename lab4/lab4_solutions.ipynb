{
 "cells": [
  {
   "cell_type": "markdown",
   "id": "e72e1f32",
   "metadata": {},
   "source": [
    "# Exam problem\n",
    "\n",
    "The classifier was tested on a two class problem and achieved the following confusion matrix \n",
    "on a testing set:\n",
    "\n",
    "    +----------------------+-----+-----+\n",
    "    | True \\ classified as |     |     |\n",
    "    | class \\              |  0  |  1  |\n",
    "    +----------------------+-----+-----+\n",
    "    | 0                    | 300 |   0 | \n",
    "    +----------------------+-----+-----+\n",
    "    | 1                    |  80 | 120 |\n",
    "    +----------------------+-----+-----+         \n",
    "\n",
    "Calculate the following:\n",
    "\n",
    "a) the classification accuracy\n",
    "\n",
    "b) default accuracy (assume that the most frequent class in the testing set is also the most \n",
    "   frequent class in the training set)\n",
    "\n",
    "c) sensitivity\n",
    "\n",
    "d) specificity\n"
   ]
  },
  {
   "cell_type": "markdown",
   "id": "55d2ef48",
   "metadata": {},
   "source": [
    "## Classification accuracy\n",
    "\n",
    "    (300+120)/(300+0+80+120) = 0.84\n",
    "    \n",
    "## Default accuracy\n",
    "\n",
    "    The majority class is 0 \n",
    "    confusion matrix (default classifier):\n",
    "          0   1\n",
    "        --+---+---+\t\t\t\t\t\t\t\t \n",
    "        0 |300| 0 |\n",
    "        --+---+---+\n",
    "        1 |200| 0 |\n",
    "        --+---+---+\n",
    "    CA: 300/500 = 0.6\n",
    "\n",
    "## Sensitivity (0 is treated as the positive class)\n",
    "\n",
    "    Sensitivity = TP/POS = 300 / 300 = 1\n",
    "    \n",
    "## Specificity (0 is treated as the positive class)\n",
    "    \n",
    "    Specificity = TN/NEG = 120 / 200 = 0.6"
   ]
  },
  {
   "cell_type": "markdown",
   "id": "e50c27c1",
   "metadata": {},
   "source": [
    "# Exam problem\n",
    "\n",
    "The classifier classified four testing instances in a 4-class problem.\n",
    "The table below shows the prediction probability distribution for each of testing instances:\n",
    "\n",
    "\t             \n",
    "    actual class  | predicted probs:    C1    C2    C3    C4\n",
    "    --------------+-----------------------------------------\n",
    "    C4            |                   0.50  0.25  0.00  0.25\n",
    "    C2            |                   0.50  0.25  0.25  0.00\n",
    "    C1            |                   0.75  0.00  0.25  0.00\n",
    "    C2            |                   0.25  0.50  0.00  0.25\n",
    "\n",
    "\n",
    "Assume that the class probability distribution in the testing data set is equal to the distribution \n",
    "in the training set. Calculate the following:\n",
    "\n",
    "a) the average Brier score\n",
    "\n",
    "b) the average information score\n",
    "(defined as: 1/n * sum (-log2(p(prior)) + log2(p(predicted)))). p(prior) is the prior probability and\n",
    "p(predicted) is the probability of the prediction for a given class.\n",
    "\n",
    "c) the information score of a default classifier for the second testing instance\n"
   ]
  },
  {
   "cell_type": "markdown",
   "id": "1842bb16",
   "metadata": {},
   "source": [
    "## The average Brier score\n",
    "\n",
    "\t (\n",
    "     (0.00-0.50)^2 + (0.00-0.25)^2 + (0.00-0.00)^2 + (1.00-0.25)^2 + \n",
    "     (0.00-0.50)^2 + (1.00-0.25)^2 + (0.00-0.25)^2 + (0.00-0.00)^2 + \n",
    "     (1.00-0.75)^2 + (0.00-0.00)^2 + (0.00-0.25)^2 + (0.00-0.00)^2 + \n",
    "     (0.00-0.25)^2 + (1.00-0.50)^2 + (0.00-0.00)^2 + (0.00-0.25)^2\n",
    "    )/4\n",
    "    = 0.5625\n",
    "    \n",
    "## The average information score\n",
    "\n",
    "    prior probabilities: P(C1) = 0.25, P(C2) = 0.5, P(C3) = 0.0, P(C4) = 0.25\n",
    "\t\n",
    "\tposterior probabilities for the correct class \n",
    "                                        example 1: P'(C4)=0.25\n",
    "                                        example 2: P'(C2)=0.25\n",
    "                                        example 3: P'(C1)=0.75\n",
    "                                        example 4: P'(C2)=0.5\n",
    "                                        \n",
    "    average information score: \n",
    "         (\n",
    "        -log2(0.25)+log2(0.25) + \n",
    "        (-log2(0.5)+log2(0.25)) + \n",
    "        (-log2(0.25)+log2(0.75)) + \n",
    "        (-log2(0.5)+log2(0.5))\n",
    "        )/4\n",
    "        = 0.25\n",
    "    \n",
    "## The information score of a default classifier for the second testing instance\n",
    "\n",
    "    If the implementation of a default classifier is such that it assigns an example to the majority class with probability 1.0:\n",
    "    \t\n",
    "        -log2(0.50)+log2(1.0) = 1\n",
    "        \n",
    "    If the implementation of a default classifier is such that it returns for every example the prior probability distribution:\n",
    "    \n",
    "    \t-log2(0.50)+log2(0.5) = 0"
   ]
  },
  {
   "cell_type": "markdown",
   "id": "d79be29d",
   "metadata": {},
   "source": [
    "# Practical problem\n",
    "\n",
    "- load the movies dataset\n",
    "\n",
    "- Remove the \"title\" and \"budget\" attributes from the dataset\n",
    "\n",
    "- split the data into two sets:\n",
    "    training set, which contains information about the movies made before the year 2004\n",
    "    test set, which contains information about the movies made in the year 2004 or later\n",
    "    then remove the \"year\" attribute \n",
    "\n",
    "- build a decision tree to predict whether or not a movie is a comedy.\n",
    "\n",
    "- evaluate that model on the test data\n"
   ]
  },
  {
   "cell_type": "code",
   "execution_count": null,
   "id": "bd8a4b4b",
   "metadata": {},
   "outputs": [],
   "source": [
    "import pandas as pd\n",
    "from sklearn import tree"
   ]
  },
  {
   "cell_type": "markdown",
   "id": "ec5aeec1",
   "metadata": {},
   "source": [
    "Load the movies dataste"
   ]
  },
  {
   "cell_type": "code",
   "execution_count": null,
   "id": "ec25abcd",
   "metadata": {
    "scrolled": true
   },
   "outputs": [],
   "source": [
    "movies = pd.read_csv(\"movies.txt\")"
   ]
  },
  {
   "cell_type": "markdown",
   "id": "a37bdab5",
   "metadata": {},
   "source": [
    "Remove the title and budget attributes from the dataset"
   ]
  },
  {
   "cell_type": "code",
   "execution_count": null,
   "id": "8dbfde65",
   "metadata": {},
   "outputs": [],
   "source": [
    "movies = movies.drop(\"title\", axis=1)\n",
    "movies = movies.drop(\"budget\", axis=1)"
   ]
  },
  {
   "cell_type": "markdown",
   "id": "d93f2442",
   "metadata": {},
   "source": [
    "Split the data into two sets: training set, which contains information about the movies made before the year 2004 test set, which contains information about the movies made in the year 2004 or later then remove the \"year\" attribute "
   ]
  },
  {
   "cell_type": "code",
   "execution_count": null,
   "id": "ad86115e",
   "metadata": {},
   "outputs": [],
   "source": [
    "train = movies[movies[\"year\"] < 2004].drop(\"year\", axis=1)\n",
    "test = movies[movies[\"year\"] >= 2004].drop(\"year\", axis=1)"
   ]
  },
  {
   "cell_type": "markdown",
   "id": "7629c525",
   "metadata": {},
   "source": [
    "Build a decision tree to predict whether or not a movie is a comedy."
   ]
  },
  {
   "cell_type": "code",
   "execution_count": null,
   "id": "4d62732a",
   "metadata": {},
   "outputs": [],
   "source": [
    "clf = tree.DecisionTreeClassifier(max_depth=8)\n",
    "\n",
    "# IMPORTANT: sklearn decision trees cannot handle categorical values\n",
    "# To fix this, convert the mpaa rating to dummies\n",
    "train = pd.get_dummies(train, columns=[\"mpaa\"])\n",
    "test = pd.get_dummies(test, columns=[\"mpaa\"])\n",
    "\n",
    "clf.fit(train.drop(\"Comedy\", axis=1), train[\"Comedy\"])"
   ]
  },
  {
   "cell_type": "code",
   "execution_count": null,
   "id": "daa756df",
   "metadata": {},
   "outputs": [],
   "source": [
    "preds = clf.predict(test.drop(\"Comedy\", axis=1))"
   ]
  },
  {
   "cell_type": "code",
   "execution_count": null,
   "id": "ebf7c732",
   "metadata": {},
   "outputs": [],
   "source": [
    "from sklearn import metrics"
   ]
  },
  {
   "cell_type": "code",
   "execution_count": null,
   "id": "68112827",
   "metadata": {},
   "outputs": [],
   "source": [
    "# Default accuracy\n",
    "train[\"Comedy\"].value_counts()\n",
    "default_ca = sum(test[\"Comedy\"] == 0) / len(test)\n",
    "default_ca"
   ]
  },
  {
   "cell_type": "code",
   "execution_count": null,
   "id": "52e8e2f9",
   "metadata": {},
   "outputs": [],
   "source": [
    "metrics.accuracy_score(test[\"Comedy\"], preds)"
   ]
  },
  {
   "cell_type": "markdown",
   "id": "eb5e305f",
   "metadata": {},
   "source": [
    "# Practical problem\n",
    "\n",
    "- load the tic-tac-toe training and test datasets:\n",
    "\n",
    "\t- train: tic-tac-toe-learn.txt\n",
    "\t- test: tic-tac-toe-test.txt\n",
    "\n",
    "- train a decision tree (the \"Class\" attribute is our target variable) and evaluate that model\n",
    "  on the test data\n",
    "\n",
    "- plot the ROC curve for your model (the value \"positive\" is our positive class) \n",
    "\n",
    "- try to improve your model with ROC analysis\n"
   ]
  },
  {
   "cell_type": "markdown",
   "id": "91115bbd",
   "metadata": {},
   "source": [
    "Load the tic-tac-toe training and test datasets:"
   ]
  },
  {
   "cell_type": "code",
   "execution_count": null,
   "id": "69962620",
   "metadata": {},
   "outputs": [],
   "source": [
    "tic_tac_toe_train = pd.read_csv(\"tic-tac-toe-learn.txt\")\n",
    "tic_tac_toe_test = pd.read_csv(\"tic-tac-toe-test.txt\")"
   ]
  },
  {
   "cell_type": "code",
   "execution_count": null,
   "id": "f4328701",
   "metadata": {},
   "outputs": [],
   "source": [
    "tic_tac_toe_train"
   ]
  },
  {
   "cell_type": "markdown",
   "id": "71a911c4",
   "metadata": {},
   "source": [
    "Train a decision tree (the \"Class\" attribute is our target variable) and evaluate that model on the test data"
   ]
  },
  {
   "cell_type": "code",
   "execution_count": null,
   "id": "2e2a770e",
   "metadata": {
    "scrolled": true
   },
   "outputs": [],
   "source": [
    "# Here, all data is categorical.\n",
    "# To convert all data, we can use pd.get_dummies without the columns argument\n",
    "tic_tac_toe_train = pd.get_dummies(tic_tac_toe_train)\n",
    "tic_tac_toe_test = pd.get_dummies(tic_tac_toe_test)\n",
    "\n",
    "# This also converts the class. We can just keep the positive one\n",
    "tic_tac_toe_train = tic_tac_toe_train.drop(\"Class_negative\", axis=1)\n",
    "tic_tac_toe_test = tic_tac_toe_test.drop(\"Class_negative\", axis=1)\n"
   ]
  },
  {
   "cell_type": "code",
   "execution_count": null,
   "id": "3bc92929",
   "metadata": {},
   "outputs": [],
   "source": [
    "tic_tac_toe_test"
   ]
  },
  {
   "cell_type": "code",
   "execution_count": null,
   "id": "a7320a0f",
   "metadata": {},
   "outputs": [],
   "source": [
    "clf = tree.DecisionTreeClassifier(max_depth = 20)\n",
    "clf.fit(tic_tac_toe_train.drop(\"Class_positive\", axis=1), tic_tac_toe_train[\"Class_positive\"])\n",
    "preds = clf.predict(tic_tac_toe_test.drop(\"Class_positive\", axis=1))"
   ]
  },
  {
   "cell_type": "code",
   "execution_count": null,
   "id": "19128013",
   "metadata": {
    "scrolled": true
   },
   "outputs": [],
   "source": [
    "tic_tac_toe_test[\"Class_positive\"].value_counts()"
   ]
  },
  {
   "cell_type": "code",
   "execution_count": null,
   "id": "1ec65241",
   "metadata": {},
   "outputs": [],
   "source": [
    "default_CA = sum(tic_tac_toe_test[\"Class_positive\"] == 1) / len(tic_tac_toe_test)\n",
    "default_CA"
   ]
  },
  {
   "cell_type": "code",
   "execution_count": null,
   "id": "c840bb47",
   "metadata": {},
   "outputs": [],
   "source": [
    "metrics.accuracy_score(tic_tac_toe_test[\"Class_positive\"], preds)"
   ]
  },
  {
   "cell_type": "markdown",
   "id": "ada1bb7c",
   "metadata": {},
   "source": [
    "Plot the ROC curve for your model (the value \"positive\" is our positive class) "
   ]
  },
  {
   "cell_type": "code",
   "execution_count": null,
   "id": "51126ac6",
   "metadata": {},
   "outputs": [],
   "source": [
    "metrics.RocCurveDisplay.from_predictions(tic_tac_toe_test[\"Class_positive\"], preds)"
   ]
  },
  {
   "cell_type": "code",
   "execution_count": null,
   "id": "93ecdb31",
   "metadata": {},
   "outputs": [],
   "source": [
    "metrics.RocCurveDisplay.from_estimator(clf, tic_tac_toe_test.drop(\"Class_positive\", axis=1), tic_tac_toe_test[\"Class_positive\"])"
   ]
  }
 ],
 "metadata": {
  "kernelspec": {
   "display_name": "Python 3 (ipykernel)",
   "language": "python",
   "name": "python3"
  },
  "language_info": {
   "codemirror_mode": {
    "name": "ipython",
    "version": 3
   },
   "file_extension": ".py",
   "mimetype": "text/x-python",
   "name": "python",
   "nbconvert_exporter": "python",
   "pygments_lexer": "ipython3",
   "version": "3.8.5"
  }
 },
 "nbformat": 4,
 "nbformat_minor": 5
}
