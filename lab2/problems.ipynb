{
 "cells": [
  {
   "cell_type": "markdown",
   "id": "d612b008",
   "metadata": {},
   "source": [
    "Use GA search (using pygad) to find the minimum of the real-valued function f(x) = abs(x) + cos(x). Restrict the search interval to [-20, 20]. Carefully define the fitness function since pygad can only maximize it!\n",
    "\n",
    "$$ f(x) = |x| + cos(x) $$"
   ]
  },
  {
   "cell_type": "code",
   "execution_count": 1,
   "id": "2a2707d1-ab0f-4409-8705-217c633c5adc",
   "metadata": {},
   "outputs": [],
   "source": [
    "import pygad\n",
    "import numpy as np\n",
    "from scipy.stats import norm\n",
    "import matplotlib.pyplot as plt "
   ]
  },
  {
   "cell_type": "code",
   "execution_count": 10,
   "id": "79fffc28",
   "metadata": {},
   "outputs": [],
   "source": [
    "def f(x):\n",
    "    y = abs(x) + np.cos(x)\n",
    "    return(y)"
   ]
  },
  {
   "cell_type": "code",
   "execution_count": 15,
   "id": "ecbf1625-19f1-46cd-ba29-3296f40ce3f9",
   "metadata": {},
   "outputs": [],
   "source": [
    "def fitness_function(ga_instance, solution, solution_idx):\n",
    "    return -f(solution)[0]   # solution is a numpy array with length 1. We return it as a scalar value"
   ]
  },
  {
   "cell_type": "code",
   "execution_count": 13,
   "id": "a3f91f7f-9802-45fe-8aa4-f29eb4361f0e",
   "metadata": {},
   "outputs": [],
   "source": [
    "gene_space = {'low': -20, 'high': 20}"
   ]
  },
  {
   "cell_type": "code",
   "execution_count": 16,
   "id": "72aa61c0-ab39-47a4-a121-71b08ddde9c4",
   "metadata": {},
   "outputs": [
    {
     "data": {
      "text/plain": [
       "(array([-0.00932314]), -1.009279682867682, 0)"
      ]
     },
     "execution_count": 16,
     "metadata": {},
     "output_type": "execute_result"
    }
   ],
   "source": [
    "ga_instance = pygad.GA(fitness_func=fitness_function,\n",
    "                       num_generations=100,                       # number of generations\n",
    "                       num_parents_mating=10,                     # number of parents selected for mutation/crossover\n",
    "                       sol_per_pop=20,                            # population size\n",
    "                       num_genes=1,\n",
    "                       gene_space=gene_space,)                               # length of the population vector\n",
    "ga_instance.run(),\n",
    "\n",
    "ga_instance.best_solution()"
   ]
  },
  {
   "cell_type": "markdown",
   "id": "97c348f9",
   "metadata": {},
   "source": [
    "Use GA search to find the minimum of the real-valued two-dimensional function f(x1, x2) = 20 + x1^2 + x2^2 - 10 * (cos(2 * pi * x1) + cos(2 * pi * x2)), where x1 and x2 are from the interval [-5.12, 5.12].\n",
    "\n",
    "$$ f(x_1, x_2) = 20 + x_1^2 + x_2^2 - 10 (cos(2 \\pi x_1) + cos(2 \\pi x_2)) $$"
   ]
  },
  {
   "cell_type": "code",
   "execution_count": 30,
   "id": "318b6aa0",
   "metadata": {},
   "outputs": [],
   "source": [
    "def g(x):\n",
    "    y = 20 + x[0]**2 + x[1]**2 - 10*(np.cos(2*np.pi*x[0]) + np.cos(2*np.pi*x[1]))\n",
    "    return(y)"
   ]
  },
  {
   "cell_type": "code",
   "execution_count": 27,
   "id": "e1717f40-7c89-493c-8461-7b98ea18981a",
   "metadata": {},
   "outputs": [],
   "source": [
    "def fitness_function2(ga_instance, solution, solution_idx):\n",
    "    return -g(solution) "
   ]
  },
  {
   "cell_type": "code",
   "execution_count": 23,
   "id": "cef3e95a-88a0-4f4d-83ac-e136781aaaf2",
   "metadata": {},
   "outputs": [],
   "source": [
    "gene_space2 = {'low': -5.12, 'high': 5.12}"
   ]
  },
  {
   "cell_type": "code",
   "execution_count": 31,
   "id": "4eecef03-59f9-4dcd-9326-ae44b735a7c4",
   "metadata": {},
   "outputs": [
    {
     "data": {
      "text/plain": [
       "(array([-0.02101796,  1.0017244 ]), -1.0915526658893704, 0)"
      ]
     },
     "execution_count": 31,
     "metadata": {},
     "output_type": "execute_result"
    }
   ],
   "source": [
    "ga_instance = pygad.GA(fitness_func=fitness_function2,\n",
    "                       num_generations=100,                       # number of generations\n",
    "                       num_parents_mating=10,                     # number of parents selected for mutation/crossover\n",
    "                       sol_per_pop=20,                            # population size\n",
    "                       num_genes=2,\n",
    "                       gene_space=gene_space2,)                               # length of the population vector\n",
    "ga_instance.run(),\n",
    "\n",
    "ga_instance.best_solution()"
   ]
  },
  {
   "cell_type": "markdown",
   "id": "23790ad4",
   "metadata": {},
   "source": [
    "We are given the following data:\n",
    "\n",
    "substrate = [1.73, 2.06, 2.20, 4.28, 4.44, 5.53, 6.32, 6.68, 7.28, 7.90, 8.80, 9.14, 9.18, 9.40, 9.88]\n",
    "\n",
    "Velocity  = [12.48, 13.97, 14.59, 21.25, 21.66, 21.97, 25.36, 22.93, 24.81, 25.63, 24.68, 29.04, 28.08, 27.32, 27.77]\n",
    "\n",
    "Use GA search to fit the data to the model: Velocity = (M * Substrate) / (K + Substrate), where M and K are the model parameters. Restrict the search interval for M to [40.0, 50.0] and for K to [3.0, 5.0]."
   ]
  },
  {
   "cell_type": "code",
   "execution_count": 40,
   "id": "8d452717",
   "metadata": {},
   "outputs": [],
   "source": [
    "substrate = np.array([1.73, 2.06, 2.20, 4.28, 4.44, 5.53, 6.32, 6.68, 7.28, 7.90, 8.80, 9.14, 9.18, 9.40, 9.88])\n",
    "\n",
    "Velocity = np.array([12.48, 13.97, 14.59, 21.25, 21.66, 21.97, 25.36, 22.93, 24.81, 25.63, 24.68, 29.04, 28.08, 27.32, 27.77])"
   ]
  },
  {
   "cell_type": "code",
   "execution_count": 42,
   "id": "47756e82-c83b-40ef-8fa8-194ad7124d70",
   "metadata": {},
   "outputs": [],
   "source": [
    "def model(param):\n",
    "    return(param[0] * substrate)/(param[1] + substrate)"
   ]
  },
  {
   "cell_type": "code",
   "execution_count": 43,
   "id": "a931fbca-ee1c-4b0d-a8a4-23c35a5b682a",
   "metadata": {},
   "outputs": [],
   "source": [
    "def myFitness2(ga_instance, solution, solution_idx): \n",
    "    return -np.sum((Velocity - model(solution))**2)"
   ]
  },
  {
   "cell_type": "code",
   "execution_count": 44,
   "id": "05d6ab32-fd86-4445-a8ea-72aef9bf6736",
   "metadata": {},
   "outputs": [],
   "source": [
    "gene_space3 =  [{'low': 40.0, 'high': 50.0}, {'low': 3.0, 'high': 5.0}]"
   ]
  },
  {
   "cell_type": "code",
   "execution_count": 45,
   "id": "b941d33c-5a06-490b-b9bf-268b9932c691",
   "metadata": {},
   "outputs": [
    {
     "data": {
      "text/plain": [
       "(array([40.00034046,  4.14361623]), -18.698961836379844, 0)"
      ]
     },
     "execution_count": 45,
     "metadata": {},
     "output_type": "execute_result"
    }
   ],
   "source": [
    "ga_instance = pygad.GA(fitness_func=myFitness2,\n",
    "                       num_generations=500, \n",
    "                       num_parents_mating=10,\n",
    "                       sol_per_pop=1000,\n",
    "                       num_genes=2,                   # Each solution should have 3 genes\n",
    "                       stop_criteria= \"saturate_10\",   # Stop if fitness does not change for 7 iterations\n",
    "                       crossover_type=\"uniform\",      # We can select different crossover/mutation types\n",
    "                       gene_space=gene_space3          # Use the gene space defined earlier\n",
    "                      )\n",
    "\n",
    "ga_instance.run()\n",
    "ga_instance.best_solution()"
   ]
  },
  {
   "cell_type": "code",
   "execution_count": 46,
   "id": "8882505d-770b-4d1a-b319-3e8cde684bcf",
   "metadata": {},
   "outputs": [
    {
     "data": {
      "text/plain": [
       "[<matplotlib.lines.Line2D at 0x169483ba240>]"
      ]
     },
     "execution_count": 46,
     "metadata": {},
     "output_type": "execute_result"
    },
    {
     "data": {
      "image/png": "[encoded data removed]",
      "text/plain": [
       "<Figure size 640x480 with 1 Axes>"
      ]
     },
     "metadata": {},
     "output_type": "display_data"
    }
   ],
   "source": [
    "plt.scatter(substrate, Velocity)\n",
    "plt.plot(substrate, model(ga_instance.best_solution()[0]))"
   ]
  }
 ],
 "metadata": {
  "kernelspec": {
   "display_name": "Python 3 (ipykernel)",
   "language": "python",
   "name": "python3"
  },
  "language_info": {
   "codemirror_mode": {
    "name": "ipython",
    "version": 3
   },
   "file_extension": ".py",
   "mimetype": "text/x-python",
   "name": "python",
   "nbconvert_exporter": "python",
   "pygments_lexer": "ipython3",
   "version": "3.12.5"
  }
 },
 "nbformat": 4,
 "nbformat_minor": 5
}
