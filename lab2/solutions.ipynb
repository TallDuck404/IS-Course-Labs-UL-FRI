{
 "cells": [
  {
   "cell_type": "markdown",
   "id": "d612b008",
   "metadata": {},
   "source": [
    "Use GA search (using pygad) to find the minimum of the real-valued function f(x) = abs(x) + cos(x). Restrict the search interval to [-20, 20]. Carefully define the fitness function since pygad can only maximize it!\n",
    "\n",
    "$$ f(x) = |x| + cos(x) $$"
   ]
  },
  {
   "cell_type": "code",
   "execution_count": 15,
   "id": "79fffc28",
   "metadata": {},
   "outputs": [],
   "source": [
    "import numpy as np\n",
    "import pygad\n",
    "import matplotlib.pyplot as plt"
   ]
  },
  {
   "cell_type": "code",
   "execution_count": null,
   "id": "fb64584a",
   "metadata": {},
   "outputs": [],
   "source": [
    "def f(x):\n",
    "    return np.abs(x) + np.cos(x)"
   ]
  },
  {
   "cell_type": "code",
   "execution_count": 9,
   "id": "78519f44",
   "metadata": {},
   "outputs": [],
   "source": [
    "def fitness_function(ga_instance, x, x_idx):\n",
    "    return -f(x)[0]"
   ]
  },
  {
   "cell_type": "code",
   "execution_count": 22,
   "id": "31444655",
   "metadata": {},
   "outputs": [],
   "source": [
    "ga_instance = pygad.GA(fitness_func=fitness_function,\n",
    "                       num_generations=100,\n",
    "                       num_parents_mating=10,\n",
    "                       sol_per_pop=20,\n",
    "                       gene_space = [{'low':-20, 'high':20}],\n",
    "                       num_genes=1)\n",
    "\n",
    "ga_instance.run()"
   ]
  },
  {
   "cell_type": "code",
   "execution_count": 23,
   "id": "2b8faee7",
   "metadata": {},
   "outputs": [
    {
     "data": {
      "text/plain": [
       "(array([-0.0042954]), -1.004286175220547, 0)"
      ]
     },
     "execution_count": 23,
     "metadata": {},
     "output_type": "execute_result"
    }
   ],
   "source": [
    "ga_instance.best_solution()"
   ]
  },
  {
   "cell_type": "code",
   "execution_count": 24,
   "id": "652e70b2",
   "metadata": {},
   "outputs": [
    {
     "data": {
      "text/plain": [
       "<matplotlib.collections.PathCollection at 0x29927a6a070>"
      ]
     },
     "execution_count": 24,
     "metadata": {},
     "output_type": "execute_result"
    },
    {
     "data": {
      "image/png": "[encoded data removed]",
      "text/plain": [
       "<Figure size 432x288 with 1 Axes>"
      ]
     },
     "metadata": {
      "needs_background": "light"
     },
     "output_type": "display_data"
    }
   ],
   "source": [
    "plt.plot(np.arange(-20, 20, 0.01), [f(x) for x in np.arange(-20, 20, 0.01)])\n",
    "plt.scatter(ga_instance.best_solution()[0], -ga_instance.best_solution()[1], color=\"r\")"
   ]
  },
  {
   "cell_type": "markdown",
   "id": "97c348f9",
   "metadata": {},
   "source": [
    "Use GA search to find the minimum of the real-valued two-dimensional function f(x1, x2) = 20 + x1^2 + x2^2 - 10 * (cos(2 * pi * x1) + cos(2 * pi * x2)), where x1 and x2 are from the interval [-5.12, 5.12].\n",
    "\n",
    "$$ f(x_1, x_2) = 20 + x_1^2 + x_2^2 - 10 (cos(2 \\pi x_1) + cos(2 \\pi x_2)) $$"
   ]
  },
  {
   "cell_type": "code",
   "execution_count": 79,
   "id": "318b6aa0",
   "metadata": {},
   "outputs": [],
   "source": [
    "def f2(x1, x2):\n",
    "    return 20 + x1**2 + x2**2 - 10 * (np.cos(2 * np.pi * x1) + np.cos(2 * np.pi * x2))"
   ]
  },
  {
   "cell_type": "code",
   "execution_count": 80,
   "id": "3a524bae",
   "metadata": {},
   "outputs": [],
   "source": [
    "def fitness_function2(ga_instance, x, x_idx):\n",
    "    return -f2(x[0], x[1])"
   ]
  },
  {
   "cell_type": "code",
   "execution_count": 81,
   "id": "0de46354",
   "metadata": {
    "scrolled": false
   },
   "outputs": [],
   "source": [
    "ga_instance2 = pygad.GA(fitness_func=fitness_function2,\n",
    "                       num_generations=100,\n",
    "                       num_parents_mating=30,\n",
    "                       sol_per_pop=100,\n",
    "                       gene_space = {'low':-5.12, 'high':5.12},\n",
    "                       num_genes=2)\n",
    "\n",
    "ga_instance2.run()"
   ]
  },
  {
   "cell_type": "code",
   "execution_count": 82,
   "id": "0495f790",
   "metadata": {},
   "outputs": [
    {
     "data": {
      "text/plain": [
       "(array([0.00228976, 0.01701008]), -0.058389111367290525, 0)"
      ]
     },
     "execution_count": 82,
     "metadata": {},
     "output_type": "execute_result"
    }
   ],
   "source": [
    "ga_instance2.best_solution()"
   ]
  },
  {
   "cell_type": "markdown",
   "id": "23790ad4",
   "metadata": {},
   "source": [
    "We are given the following data:\n",
    "\n",
    "substrate = [1.73, 2.06, 2.20, 4.28, 4.44, 5.53, 6.32, 6.68, 7.28, 7.90, 8.80, 9.14, 9.18, 9.40, 9.88]\n",
    "\n",
    "Velocity  = [12.48, 13.97, 14.59, 21.25, 21.66, 21.97, 25.36, 22.93, 24.81, 25.63, 24.68, 29.04, 28.08, 27.32, 27.77]\n",
    "\n",
    "Use GA search to fit the data to the model: Velocity = (M * Substrate) / (K + Substrate), where M and K are the model parameters. Restrict the search interval for M to [40.0, 50.0] and for K to [3.0, 5.0]."
   ]
  },
  {
   "cell_type": "code",
   "execution_count": 90,
   "id": "8d452717",
   "metadata": {},
   "outputs": [],
   "source": [
    "substrate = np.array([1.73, 2.06, 2.20, 4.28, 4.44, 5.53, 6.32, 6.68, 7.28, 7.90, 8.80, 9.14, 9.18, 9.40, 9.88])\n",
    "\n",
    "velocity = np.array([12.48, 13.97, 14.59, 21.25, 21.66, 21.97, 25.36, 22.93, 24.81, 25.63, 24.68, 29.04, 28.08, 27.32, 27.77])\n"
   ]
  },
  {
   "cell_type": "code",
   "execution_count": 91,
   "id": "19727226",
   "metadata": {},
   "outputs": [],
   "source": [
    "def model(M, K):\n",
    "    return (M * substrate) / (K + substrate)"
   ]
  },
  {
   "cell_type": "code",
   "execution_count": 94,
   "id": "50c56be0",
   "metadata": {},
   "outputs": [],
   "source": [
    "def fitness_function3(ga_instance, x, x_idx):\n",
    "    return -np.sum(velocity - model(x[0], x[1]))**2 "
   ]
  },
  {
   "cell_type": "code",
   "execution_count": 95,
   "id": "e1b923e5",
   "metadata": {},
   "outputs": [],
   "source": [
    "ga_instance3 = pygad.GA(fitness_func=fitness_function3,\n",
    "                       num_generations=100,\n",
    "                       num_parents_mating=30,\n",
    "                       sol_per_pop=200,\n",
    "                       gene_space = [{'low':40.0, 'high':50.0}, {'low':3.0, 'high':5.0}],\n",
    "                       num_genes=2)\n",
    "\n",
    "ga_instance3.run()"
   ]
  },
  {
   "cell_type": "code",
   "execution_count": 97,
   "id": "f3c8ca99",
   "metadata": {},
   "outputs": [
    {
     "data": {
      "text/plain": [
       "(array([41.29147012,  4.48312788]), -6.844945444324242e-05, 0)"
      ]
     },
     "execution_count": 97,
     "metadata": {},
     "output_type": "execute_result"
    }
   ],
   "source": [
    "ga_instance3.best_solution()"
   ]
  },
  {
   "cell_type": "code",
   "execution_count": 102,
   "id": "41086772",
   "metadata": {},
   "outputs": [
    {
     "data": {
      "text/plain": [
       "[<matplotlib.lines.Line2D at 0x29927d4fd30>]"
      ]
     },
     "execution_count": 102,
     "metadata": {},
     "output_type": "execute_result"
    },
    {
     "data": {
      "image/png": "[encoded data removed]",
      "text/plain": [
       "<Figure size 432x288 with 1 Axes>"
      ]
     },
     "metadata": {
      "needs_background": "light"
     },
     "output_type": "display_data"
    }
   ],
   "source": [
    "def model_to_print(M, K):\n",
    "    points = np.arange(1, 10, 0.01)\n",
    "    return (M * points) / (K + points)\n",
    "\n",
    "plt.scatter(substrate, velocity)\n",
    "plt.plot(np.arange(1, 10, 0.01), model_to_print(ga_instance3.best_solution()[0][0], ga_instance3.best_solution()[0][1]))"
   ]
  }
 ],
 "metadata": {
  "kernelspec": {
   "display_name": "Python 3 (ipykernel)",
   "language": "python",
   "name": "python3"
  },
  "language_info": {
   "codemirror_mode": {
    "name": "ipython",
    "version": 3
   },
   "file_extension": ".py",
   "mimetype": "text/x-python",
   "name": "python",
   "nbconvert_exporter": "python",
   "pygments_lexer": "ipython3",
   "version": "3.8.5"
  }
 },
 "nbformat": 4,
 "nbformat_minor": 5
}
