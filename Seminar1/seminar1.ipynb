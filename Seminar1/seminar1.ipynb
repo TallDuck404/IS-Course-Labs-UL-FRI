{
 "cells": [
  {
   "cell_type": "code",
   "execution_count": 3,
   "metadata": {},
   "outputs": [],
   "source": [
    "import pygad\n",
    "import numpy as np\n",
    "from scipy.stats import norm\n",
    "import matplotlib.pyplot as plt \n",
    "import pandas as pd"
   ]
  },
  {
   "cell_type": "code",
   "execution_count": 65,
   "metadata": {},
   "outputs": [
    {
     "data": {
      "text/html": [
       "<div>\n",
       "<style scoped>\n",
       "    .dataframe tbody tr th:only-of-type {\n",
       "        vertical-align: middle;\n",
       "    }\n",
       "\n",
       "    .dataframe tbody tr th {\n",
       "        vertical-align: top;\n",
       "    }\n",
       "\n",
       "    .dataframe thead th {\n",
       "        text-align: right;\n",
       "    }\n",
       "</style>\n",
       "<table border=\"1\" class=\"dataframe\">\n",
       "  <thead>\n",
       "    <tr style=\"text-align: right;\">\n",
       "      <th></th>\n",
       "      <th>dataset_id</th>\n",
       "      <th>num_papers</th>\n",
       "      <th>num_reviewers</th>\n",
       "      <th>reviewer_capacity</th>\n",
       "      <th>min_reviews_per_paper</th>\n",
       "      <th>max_reviews_per_paper</th>\n",
       "      <th>preferences</th>\n",
       "      <th>friendships</th>\n",
       "      <th>authorship</th>\n",
       "    </tr>\n",
       "  </thead>\n",
       "  <tbody>\n",
       "    <tr>\n",
       "      <th>0</th>\n",
       "      <td>Easy Dataset 1</td>\n",
       "      <td>5</td>\n",
       "      <td>5</td>\n",
       "      <td>3</td>\n",
       "      <td>3</td>\n",
       "      <td>5</td>\n",
       "      <td>[3, 2, 1, 5, 3]</td>\n",
       "      <td>[0, 0, 0, 0, 0]</td>\n",
       "      <td>[0, 0, 0, 0, 0]</td>\n",
       "    </tr>\n",
       "    <tr>\n",
       "      <th>1</th>\n",
       "      <td>Easy Dataset 1</td>\n",
       "      <td>5</td>\n",
       "      <td>5</td>\n",
       "      <td>3</td>\n",
       "      <td>3</td>\n",
       "      <td>5</td>\n",
       "      <td>[5, 2, 4, 2, 2]</td>\n",
       "      <td>[0, 0, 1, 0, 0]</td>\n",
       "      <td>[0, 1, 0, 0, 0]</td>\n",
       "    </tr>\n",
       "    <tr>\n",
       "      <th>2</th>\n",
       "      <td>Easy Dataset 1</td>\n",
       "      <td>5</td>\n",
       "      <td>5</td>\n",
       "      <td>3</td>\n",
       "      <td>3</td>\n",
       "      <td>5</td>\n",
       "      <td>[4, 3, 1, 2, 4]</td>\n",
       "      <td>[0, 1, 0, 0, 0]</td>\n",
       "      <td>[0, 0, 0, 0, 0]</td>\n",
       "    </tr>\n",
       "    <tr>\n",
       "      <th>3</th>\n",
       "      <td>Easy Dataset 1</td>\n",
       "      <td>5</td>\n",
       "      <td>5</td>\n",
       "      <td>3</td>\n",
       "      <td>3</td>\n",
       "      <td>5</td>\n",
       "      <td>[4, 2, 2, 1, 1]</td>\n",
       "      <td>[0, 0, 0, 0, 0]</td>\n",
       "      <td>[1, 1, 0, 0, 1]</td>\n",
       "    </tr>\n",
       "    <tr>\n",
       "      <th>4</th>\n",
       "      <td>Easy Dataset 1</td>\n",
       "      <td>5</td>\n",
       "      <td>5</td>\n",
       "      <td>3</td>\n",
       "      <td>3</td>\n",
       "      <td>5</td>\n",
       "      <td>[4, 3, 4, 1, 5]</td>\n",
       "      <td>[0, 0, 0, 0, 0]</td>\n",
       "      <td>[0, 0, 1, 1, 0]</td>\n",
       "    </tr>\n",
       "  </tbody>\n",
       "</table>\n",
       "</div>"
      ],
      "text/plain": [
       "       dataset_id  num_papers  num_reviewers  reviewer_capacity  \\\n",
       "0  Easy Dataset 1           5              5                  3   \n",
       "1  Easy Dataset 1           5              5                  3   \n",
       "2  Easy Dataset 1           5              5                  3   \n",
       "3  Easy Dataset 1           5              5                  3   \n",
       "4  Easy Dataset 1           5              5                  3   \n",
       "\n",
       "   min_reviews_per_paper  max_reviews_per_paper      preferences  \\\n",
       "0                      3                      5  [3, 2, 1, 5, 3]   \n",
       "1                      3                      5  [5, 2, 4, 2, 2]   \n",
       "2                      3                      5  [4, 3, 1, 2, 4]   \n",
       "3                      3                      5  [4, 2, 2, 1, 1]   \n",
       "4                      3                      5  [4, 3, 4, 1, 5]   \n",
       "\n",
       "       friendships       authorship  \n",
       "0  [0, 0, 0, 0, 0]  [0, 0, 0, 0, 0]  \n",
       "1  [0, 0, 1, 0, 0]  [0, 1, 0, 0, 0]  \n",
       "2  [0, 1, 0, 0, 0]  [0, 0, 0, 0, 0]  \n",
       "3  [0, 0, 0, 0, 0]  [1, 1, 0, 0, 1]  \n",
       "4  [0, 0, 0, 0, 0]  [0, 0, 1, 1, 0]  "
      ]
     },
     "execution_count": 65,
     "metadata": {},
     "output_type": "execute_result"
    }
   ],
   "source": [
    "easy_dataset_1 = pd.read_json(\"datasets/easy_dataset_1.json\")\n",
    "easy_dataset_1"
   ]
  },
  {
   "cell_type": "code",
   "execution_count": 121,
   "metadata": {},
   "outputs": [],
   "source": [
    "class Dataset:\n",
    "    def __init__(self,data):\n",
    "        self.N = data['num_papers'][0]\n",
    "        self.K = data['num_reviewers'][0]\n",
    "        self.R = data['reviewer_capacity'][0]\n",
    "        self.RPP = np.array([data['min_reviews_per_paper'][0],data['max_reviews_per_paper'][0]])\n",
    "        self.Preference = np.array([sublist for sublist in data['preferences']])\n",
    "        self.Frendship = np.array([sublist for sublist in data['friendships']],dtype=bool)\n",
    "        self.Autorship = np.array([sublist for sublist in data['authorship']],dtype=bool)"
   ]
  },
  {
   "cell_type": "code",
   "execution_count": 6,
   "metadata": {},
   "outputs": [
    {
     "name": "stdout",
     "output_type": "stream",
     "text": [
      "[[3 2 1 5 3]\n",
      " [5 2 4 2 2]\n",
      " [4 3 1 2 4]\n",
      " [4 2 2 1 1]\n",
      " [4 3 4 1 5]]\n",
      "[[False False False False False]\n",
      " [False False  True False False]\n",
      " [False  True False False False]\n",
      " [False False False False False]\n",
      " [False False False False False]]\n",
      "[[False False False False False]\n",
      " [False  True False False False]\n",
      " [False False False False False]\n",
      " [ True  True False False  True]\n",
      " [False False  True  True False]]\n"
     ]
    }
   ],
   "source": [
    "N = easy_dataset_1['num_papers'][0]\n",
    "K = easy_dataset_1['num_reviewers'][0]\n",
    "R = easy_dataset_1['reviewer_capacity'][0]\n",
    "RPP = np.array([easy_dataset_1['min_reviews_per_paper'][0],easy_dataset_1['max_reviews_per_paper'][0]])\n",
    "Preference = np.array([sublist for sublist in easy_dataset_1['preferences']])\n",
    "print(Preference)\n",
    "Frendship = np.array([sublist for sublist in easy_dataset_1['friendships']],dtype=bool)\n",
    "print(Frendship)\n",
    "Autorship = np.array([sublist for sublist in easy_dataset_1['authorship']],dtype=bool)\n",
    "print(Autorship)"
   ]
  },
  {
   "cell_type": "code",
   "execution_count": 122,
   "metadata": {},
   "outputs": [
    {
     "name": "stdout",
     "output_type": "stream",
     "text": [
      "6\n",
      "[[1 2 1 2 5 2]\n",
      " [4 1 3 5 3 4]\n",
      " [1 3 3 1 3 2]\n",
      " [1 4 2 1 3 1]\n",
      " [1 1 1 3 5 4]\n",
      " [1 1 3 5 3 1]\n",
      " [5 1 1 1 2 4]\n",
      " [5 2 5 2 4 1]]\n",
      "[[False False  True  True False False]\n",
      " [False False False False False False]\n",
      " [False False False False False  True]\n",
      " [False False False False  True False]\n",
      " [False  True False False False False]\n",
      " [ True False  True False False False]\n",
      " [False False False False False False]\n",
      " [ True False False False False False]]\n"
     ]
    }
   ],
   "source": [
    "easy_1 = Dataset(easy_dataset_1)\n",
    "easy_2 = Dataset(pd.read_json(\"datasets/easy_dataset_2.json\"))\n",
    "print(easy_2.N)\n",
    "print(easy_2.Preference)\n",
    "print(easy_2.Autorship)"
   ]
  },
  {
   "cell_type": "code",
   "execution_count": 114,
   "metadata": {},
   "outputs": [
    {
     "data": {
      "text/plain": [
       "array([[False, False, False, False, False, False],\n",
       "       [False,  True,  True,  True, False, False],\n",
       "       [False,  True,  True,  True, False, False],\n",
       "       [False,  True,  True,  True, False, False],\n",
       "       [ True, False, False, False, False, False],\n",
       "       [ True, False, False, False, False, False],\n",
       "       [False, False, False, False, False, False],\n",
       "       [False, False, False, False, False, False]])"
      ]
     },
     "execution_count": 114,
     "metadata": {},
     "output_type": "execute_result"
    }
   ],
   "source": [
    "gene_space = [1,0]\n",
    "example_solution = np.zeros(easy_2.Preference.shape,dtype=bool)\n",
    "example_solution[1:4,1:4] = True\n",
    "example_solution[4,0] = True\n",
    "example_solution[5,0] = True\n",
    "example_solution"
   ]
  },
  {
   "cell_type": "code",
   "execution_count": 127,
   "metadata": {},
   "outputs": [],
   "source": [
    "def GA_fitness_function(ga_instance, solution, solution_idx):\n",
    "    return fitness_function(solution)\n",
    "def fitness_function(solution):\n",
    "    data = easy_2\n",
    "    solution = np.array(solution).astype(bool)\n",
    "    solution = solution.reshape(data.K,data.N)\n",
    "    \n",
    "    Pref = data.Preference * solution\n",
    "    Pref = sum(sum(Pref))\n",
    "    # Frend = (Frendship * solution).astype(int) \n",
    "    # Frend = sum(sum(Frend))\n",
    "    Auth = (data.Autorship * solution).astype(int) \n",
    "    Auth = sum(sum(Auth))\n",
    "    revievs_per_paper = (sum(solution) >= data.RPP[0] )*(sum(solution) <= data.RPP[1])\n",
    "    revievs_per_paper = sum(revievs_per_paper)\n",
    "    reviever_capacity = (np.sum(solution,1) > data.R)\n",
    "    reviever_capacity = sum(reviever_capacity)\n",
    "    return Pref -20*Auth + 10*revievs_per_paper - 10*reviever_capacity"
   ]
  },
  {
   "cell_type": "code",
   "execution_count": null,
   "metadata": {},
   "outputs": [
    {
     "name": "stdout",
     "output_type": "stream",
     "text": [
      "5\n",
      "[[0 0 0 0 0 0]\n",
      " [0 0 0 0 0 0]\n",
      " [0 0 0 0 0 0]\n",
      " [0 0 0 0 0 0]\n",
      " [1 1 1 1 1 1]\n",
      " [0 0 0 0 0 0]\n",
      " [0 0 0 0 0 0]\n",
      " [0 1 1 1 1 1]]\n",
      "[False  True  True  True False False False False]\n",
      "[False False False False False False False  True]\n"
     ]
    }
   ],
   "source": [
    "print(fitness_function(example_solution,easy_2))\n",
    "print((np.matmul(easy_2.Frendship[7].astype(int),example_solution)))\n",
    "print((np.sum(example_solution,1) > easy_2.R))\n",
    "print((easy_2.Frendship[4]))"
   ]
  },
  {
   "cell_type": "code",
   "execution_count": 128,
   "metadata": {},
   "outputs": [],
   "source": [
    "ga_instance = pygad.GA(fitness_func=GA_fitness_function,\n",
    "                       num_generations=500, \n",
    "                       num_parents_mating=10,\n",
    "                       sol_per_pop=1000,\n",
    "                       num_genes=easy_2.Preference.size,                   \n",
    "                       stop_criteria= \"saturate_10\",   # Stop if fitness does not change for 7 iterations\n",
    "                       crossover_type=\"uniform\",      # We can select different crossover/mutation types\n",
    "                       gene_space=gene_space          # Use the gene space defined earlier\n",
    "                      )\n",
    "\n",
    "ga_instance.run()"
   ]
  },
  {
   "cell_type": "code",
   "execution_count": 130,
   "metadata": {},
   "outputs": [
    {
     "name": "stderr",
     "output_type": "stream",
     "text": [
      "C:\\Users\\Patrik\\AppData\\Roaming\\Python\\Python312\\site-packages\\pygad\\visualize\\plot.py:109: UserWarning: No artists with labels found to put in legend.  Note that artists whose label start with an underscore are ignored when legend() is called with no argument.\n",
      "  matplotlib.pyplot.legend()\n"
     ]
    },
    {
     "data": {
      "image/png": "[encoded data removed]",
      "text/plain": [
       "<Figure size 640x480 with 1 Axes>"
      ]
     },
     "metadata": {},
     "output_type": "display_data"
    },
    {
     "data": {
      "image/png": "[encoded data removed]",
      "text/plain": [
       "<Figure size 640x480 with 1 Axes>"
      ]
     },
     "execution_count": 130,
     "metadata": {},
     "output_type": "execute_result"
    }
   ],
   "source": [
    "ga_instance.best_solution()\n",
    "ga_instance.plot_fitness()"
   ]
  }
 ],
 "metadata": {
  "kernelspec": {
   "display_name": "Python 3",
   "language": "python",
   "name": "python3"
  },
  "language_info": {
   "codemirror_mode": {
    "name": "ipython",
    "version": 3
   },
   "file_extension": ".py",
   "mimetype": "text/x-python",
   "name": "python",
   "nbconvert_exporter": "python",
   "pygments_lexer": "ipython3",
   "version": "3.12.4"
  }
 },
 "nbformat": 4,
 "nbformat_minor": 2
}
