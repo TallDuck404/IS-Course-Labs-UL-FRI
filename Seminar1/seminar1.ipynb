{
 "cells": [
  {
   "cell_type": "code",
   "execution_count": 4,
   "metadata": {},
   "outputs": [],
   "source": [
    "import pygad\n",
    "import numpy as np\n",
    "from scipy.stats import norm\n",
    "import matplotlib.pyplot as plt \n",
    "import pandas as pd"
   ]
  },
  {
   "cell_type": "code",
   "execution_count": 5,
   "metadata": {},
   "outputs": [
    {
     "data": {
      "text/html": [
       "<div>\n",
       "<style scoped>\n",
       "    .dataframe tbody tr th:only-of-type {\n",
       "        vertical-align: middle;\n",
       "    }\n",
       "\n",
       "    .dataframe tbody tr th {\n",
       "        vertical-align: top;\n",
       "    }\n",
       "\n",
       "    .dataframe thead th {\n",
       "        text-align: right;\n",
       "    }\n",
       "</style>\n",
       "<table border=\"1\" class=\"dataframe\">\n",
       "  <thead>\n",
       "    <tr style=\"text-align: right;\">\n",
       "      <th></th>\n",
       "      <th>dataset_id</th>\n",
       "      <th>num_papers</th>\n",
       "      <th>num_reviewers</th>\n",
       "      <th>reviewer_capacity</th>\n",
       "      <th>min_reviews_per_paper</th>\n",
       "      <th>max_reviews_per_paper</th>\n",
       "      <th>preferences</th>\n",
       "      <th>friendships</th>\n",
       "      <th>authorship</th>\n",
       "    </tr>\n",
       "  </thead>\n",
       "  <tbody>\n",
       "    <tr>\n",
       "      <th>0</th>\n",
       "      <td>Easy Dataset 1</td>\n",
       "      <td>5</td>\n",
       "      <td>5</td>\n",
       "      <td>3</td>\n",
       "      <td>3</td>\n",
       "      <td>5</td>\n",
       "      <td>[3, 2, 1, 5, 3]</td>\n",
       "      <td>[0, 0, 0, 0, 0]</td>\n",
       "      <td>[0, 0, 0, 0, 0]</td>\n",
       "    </tr>\n",
       "    <tr>\n",
       "      <th>1</th>\n",
       "      <td>Easy Dataset 1</td>\n",
       "      <td>5</td>\n",
       "      <td>5</td>\n",
       "      <td>3</td>\n",
       "      <td>3</td>\n",
       "      <td>5</td>\n",
       "      <td>[5, 2, 4, 2, 2]</td>\n",
       "      <td>[0, 0, 1, 0, 0]</td>\n",
       "      <td>[0, 1, 0, 0, 0]</td>\n",
       "    </tr>\n",
       "    <tr>\n",
       "      <th>2</th>\n",
       "      <td>Easy Dataset 1</td>\n",
       "      <td>5</td>\n",
       "      <td>5</td>\n",
       "      <td>3</td>\n",
       "      <td>3</td>\n",
       "      <td>5</td>\n",
       "      <td>[4, 3, 1, 2, 4]</td>\n",
       "      <td>[0, 1, 0, 0, 0]</td>\n",
       "      <td>[0, 0, 0, 0, 0]</td>\n",
       "    </tr>\n",
       "    <tr>\n",
       "      <th>3</th>\n",
       "      <td>Easy Dataset 1</td>\n",
       "      <td>5</td>\n",
       "      <td>5</td>\n",
       "      <td>3</td>\n",
       "      <td>3</td>\n",
       "      <td>5</td>\n",
       "      <td>[4, 2, 2, 1, 1]</td>\n",
       "      <td>[0, 0, 0, 0, 0]</td>\n",
       "      <td>[1, 1, 0, 0, 1]</td>\n",
       "    </tr>\n",
       "    <tr>\n",
       "      <th>4</th>\n",
       "      <td>Easy Dataset 1</td>\n",
       "      <td>5</td>\n",
       "      <td>5</td>\n",
       "      <td>3</td>\n",
       "      <td>3</td>\n",
       "      <td>5</td>\n",
       "      <td>[4, 3, 4, 1, 5]</td>\n",
       "      <td>[0, 0, 0, 0, 0]</td>\n",
       "      <td>[0, 0, 1, 1, 0]</td>\n",
       "    </tr>\n",
       "  </tbody>\n",
       "</table>\n",
       "</div>"
      ],
      "text/plain": [
       "       dataset_id  num_papers  num_reviewers  reviewer_capacity  \\\n",
       "0  Easy Dataset 1           5              5                  3   \n",
       "1  Easy Dataset 1           5              5                  3   \n",
       "2  Easy Dataset 1           5              5                  3   \n",
       "3  Easy Dataset 1           5              5                  3   \n",
       "4  Easy Dataset 1           5              5                  3   \n",
       "\n",
       "   min_reviews_per_paper  max_reviews_per_paper      preferences  \\\n",
       "0                      3                      5  [3, 2, 1, 5, 3]   \n",
       "1                      3                      5  [5, 2, 4, 2, 2]   \n",
       "2                      3                      5  [4, 3, 1, 2, 4]   \n",
       "3                      3                      5  [4, 2, 2, 1, 1]   \n",
       "4                      3                      5  [4, 3, 4, 1, 5]   \n",
       "\n",
       "       friendships       authorship  \n",
       "0  [0, 0, 0, 0, 0]  [0, 0, 0, 0, 0]  \n",
       "1  [0, 0, 1, 0, 0]  [0, 1, 0, 0, 0]  \n",
       "2  [0, 1, 0, 0, 0]  [0, 0, 0, 0, 0]  \n",
       "3  [0, 0, 0, 0, 0]  [1, 1, 0, 0, 1]  \n",
       "4  [0, 0, 0, 0, 0]  [0, 0, 1, 1, 0]  "
      ]
     },
     "execution_count": 5,
     "metadata": {},
     "output_type": "execute_result"
    }
   ],
   "source": [
    "easy_dataset_1 = pd.read_json(\"datasets/easy_dataset_1.json\")\n",
    "easy_dataset_1"
   ]
  },
  {
   "cell_type": "code",
   "execution_count": 30,
   "metadata": {},
   "outputs": [
    {
     "name": "stdout",
     "output_type": "stream",
     "text": [
      "[[3 2 1 5 3]\n",
      " [5 2 4 2 2]\n",
      " [4 3 1 2 4]\n",
      " [4 2 2 1 1]\n",
      " [4 3 4 1 5]]\n",
      "[[False False False False False]\n",
      " [False False  True False False]\n",
      " [False  True False False False]\n",
      " [False False False False False]\n",
      " [False False False False False]]\n",
      "[[False False False False False]\n",
      " [False  True False False False]\n",
      " [False False False False False]\n",
      " [ True  True False False  True]\n",
      " [False False  True  True False]]\n"
     ]
    }
   ],
   "source": [
    "N = easy_dataset_1['num_papers'][0]\n",
    "K = easy_dataset_1['num_reviewers'][0]\n",
    "R = easy_dataset_1['reviewer_capacity'][0]\n",
    "RPP = np.array([easy_dataset_1['min_reviews_per_paper'][0],easy_dataset_1['max_reviews_per_paper'][0]])\n",
    "Preference = np.array([sublist for sublist in easy_dataset_1['preferences']])\n",
    "print(Preference)\n",
    "Frendship = np.array([sublist for sublist in easy_dataset_1['friendships']],dtype=bool)\n",
    "print(Frendship)\n",
    "Autorship = np.array([sublist for sublist in easy_dataset_1['authorship']],dtype=bool)\n",
    "print(Autorship)"
   ]
  },
  {
   "cell_type": "code",
   "execution_count": 86,
   "metadata": {},
   "outputs": [
    {
     "data": {
      "text/plain": [
       "array([[False, False, False, False, False],\n",
       "       [ True,  True,  True,  True,  True],\n",
       "       [ True,  True,  True,  True,  True],\n",
       "       [ True,  True,  True,  True,  True],\n",
       "       [False, False, False, False, False]])"
      ]
     },
     "execution_count": 86,
     "metadata": {},
     "output_type": "execute_result"
    }
   ],
   "source": [
    "gene_space = [True,False]\n",
    "example_solution = np.zeros(Preference.shape,dtype=bool)\n",
    "example_solution[0:4][1:4] = True\n",
    "example_solution"
   ]
  },
  {
   "cell_type": "code",
   "execution_count": 83,
   "metadata": {},
   "outputs": [],
   "source": [
    "def GA_fitness_function(ga_instance, solution, solution_idx):\n",
    "    return fitness_function(solution)\n",
    "def fitness_function(solution):\n",
    "    Pref = Preference * solution\n",
    "    Pref = sum(sum(Pref))\n",
    "    Frend = (Frendship * solution).astype(int) \n",
    "    Frend = sum(sum(Frend))\n",
    "    Auth = (Autorship * solution).astype(int) \n",
    "    Auth = sum(sum(Auth))\n",
    "    revievs_per_paper = (sum(solution) >= RPP[0] )*(sum(solution) <= RPP[1])\n",
    "    revievs_per_paper = sum(revievs_per_paper - 1)\n",
    "    print(solution.sum(axis=0))\n",
    "    return Pref -10* Frend -20*Auth + 10*revievs_per_paper"
   ]
  },
  {
   "cell_type": "code",
   "execution_count": 87,
   "metadata": {},
   "outputs": [
    {
     "name": "stdout",
     "output_type": "stream",
     "text": [
      "[3 3 3 3 3]\n",
      "-61\n"
     ]
    }
   ],
   "source": [
    "print(fitness_function(example_solution))"
   ]
  }
 ],
 "metadata": {
  "kernelspec": {
   "display_name": "Python 3",
   "language": "python",
   "name": "python3"
  },
  "language_info": {
   "codemirror_mode": {
    "name": "ipython",
    "version": 3
   },
   "file_extension": ".py",
   "mimetype": "text/x-python",
   "name": "python",
   "nbconvert_exporter": "python",
   "pygments_lexer": "ipython3",
   "version": "3.12.4"
  }
 },
 "nbformat": 4,
 "nbformat_minor": 2
}
